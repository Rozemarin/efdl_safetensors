{
 "cells": [
  {
   "cell_type": "markdown",
   "metadata": {},
   "source": [
    "# Speed"
   ]
  },
  {
   "cell_type": "markdown",
   "metadata": {},
   "source": [
    "One of the main benefits of Safetensors is its reading speed. Let's test it (and loading, just in case)"
   ]
  },
  {
   "cell_type": "code",
   "execution_count": 1,
   "metadata": {},
   "outputs": [],
   "source": [
    "import torch\n",
    "import torch.nn as nn\n",
    "import pickle\n",
    "import numpy as np\n",
    "from safetensors.torch import save_file, load_file\n",
    "\n",
    "\n",
    "class LargeModel(nn.Module):\n",
    "    def __init__(self):\n",
    "        super(LargeModel, self).__init__()\n",
    "        self.fc1 = nn.Linear(10000, 10000)\n",
    "        self.fc2 = nn.Linear(10000, 10000)\n",
    "        self.fc3 = nn.Linear(10000, 10000)\n",
    "        self.fc4 = nn.Linear(10000, 10000)\n",
    "\n",
    "    def forward(self, x):\n",
    "        x = torch.relu(self.fc1(x))\n",
    "        x = torch.relu(self.fc2(x))\n",
    "        x = torch.relu(self.fc3(x))\n",
    "        x = self.fc4(x)\n",
    "        return x\n",
    "\n",
    "\n",
    "model = LargeModel()\n",
    "weights = model.state_dict()"
   ]
  },
  {
   "cell_type": "markdown",
   "metadata": {},
   "source": [
    "## Save"
   ]
  },
  {
   "cell_type": "code",
   "execution_count": 3,
   "metadata": {},
   "outputs": [
    {
     "name": "stdout",
     "output_type": "stream",
     "text": [
      "2.09 s ± 746 ms per loop (mean ± std. dev. of 7 runs, 1 loop each)\n"
     ]
    }
   ],
   "source": [
    "%%timeit\n",
    "# SafeTensors\n",
    "save_file(weights, \"large_model_weights.safetensors\")"
   ]
  },
  {
   "cell_type": "code",
   "execution_count": null,
   "metadata": {},
   "outputs": [
    {
     "name": "stdout",
     "output_type": "stream",
     "text": [
      "3.68 s ± 646 ms per loop (mean ± std. dev. of 7 runs, 1 loop each)\n"
     ]
    }
   ],
   "source": [
    "%%timeit\n",
    "# Pickle\n",
    "with open(\"large_model_weights.pkl\", \"wb\") as f:\n",
    "    pickle.dump(weights, f)"
   ]
  },
  {
   "cell_type": "code",
   "execution_count": null,
   "metadata": {},
   "outputs": [
    {
     "name": "stdout",
     "output_type": "stream",
     "text": [
      "4.1 s ± 1.26 s per loop (mean ± std. dev. of 7 runs, 1 loop each)\n"
     ]
    }
   ],
   "source": [
    "%%timeit\n",
    "# NumPy's .npy\n",
    "np.save(\"large_model_weights.npy\", {k: v.numpy() for k, v in weights.items()})"
   ]
  },
  {
   "cell_type": "code",
   "execution_count": 4,
   "metadata": {},
   "outputs": [
    {
     "name": "stdout",
     "output_type": "stream",
     "text": [
      "6.33 s ± 707 ms per loop (mean ± std. dev. of 7 runs, 1 loop each)\n"
     ]
    }
   ],
   "source": [
    "%%timeit\n",
    "# Pytorch\n",
    "torch.save(model.state_dict(), \"large_model_weights.pt\")"
   ]
  },
  {
   "cell_type": "code",
   "execution_count": null,
   "metadata": {},
   "outputs": [
    {
     "name": "stdout",
     "output_type": "stream",
     "text": [
      "Pickle .pt file size: 1.600162623 GB\n",
      "SafeTensors file size: 1.600160672 GB\n",
      "Npy file size: 1.600160729 GB\n"
     ]
    }
   ],
   "source": [
    "import os\n",
    "\n",
    "print(\"Pickle .pt file size:\", os.path.getsize(\"large_model_weights.pkl\") / 1e9, \"GB\")\n",
    "print(\"SafeTensors file size:\", os.path.getsize(\"large_model_weights.safetensors\") / 1e9, \"GB\")\n",
    "print(\"Npy file size:\", os.path.getsize(\"large_model_weights.npy\") / 1e9, \"GB\")\n",
    "print(\"PyTorch file size:\", os.path.getsize(\"large_model_weights.pt\") / 1e9, \"GB\")"
   ]
  },
  {
   "cell_type": "markdown",
   "metadata": {},
   "source": [
    "## Load"
   ]
  },
  {
   "cell_type": "code",
   "execution_count": null,
   "metadata": {},
   "outputs": [
    {
     "name": "stdout",
     "output_type": "stream",
     "text": [
      "174 µs ± 3.95 µs per loop (mean ± std. dev. of 7 runs, 10,000 loops each)\n"
     ]
    }
   ],
   "source": [
    "%%timeit\n",
    "loaded_weights_safetensors = load_file(\"large_model_weights.safetensors\")"
   ]
  },
  {
   "cell_type": "code",
   "execution_count": null,
   "metadata": {},
   "outputs": [
    {
     "name": "stdout",
     "output_type": "stream",
     "text": [
      "1.5 s ± 183 ms per loop (mean ± std. dev. of 7 runs, 1 loop each)\n"
     ]
    }
   ],
   "source": [
    "%%timeit\n",
    "with open(\"large_model_weights.pkl\", \"rb\") as f:\n",
    "    loaded_weights_pickle = pickle.load(f)"
   ]
  },
  {
   "cell_type": "code",
   "execution_count": null,
   "metadata": {},
   "outputs": [
    {
     "name": "stdout",
     "output_type": "stream",
     "text": [
      "222 ms ± 6.86 ms per loop (mean ± std. dev. of 7 runs, 1 loop each)\n"
     ]
    }
   ],
   "source": [
    "%%timeit\n",
    "loaded_weights_npy = np.load(\"large_model_weights.npy\", allow_pickle=True).item()"
   ]
  },
  {
   "cell_type": "markdown",
   "metadata": {},
   "source": [
    "Here we are a lot faster"
   ]
  },
  {
   "cell_type": "markdown",
   "metadata": {},
   "source": [
    "# Safety"
   ]
  },
  {
   "cell_type": "markdown",
   "metadata": {},
   "source": [
    "With pickle we can execute any malicious code. In safetensors it is not possible"
   ]
  },
  {
   "cell_type": "code",
   "execution_count": null,
   "metadata": {},
   "outputs": [],
   "source": [
    "import pickle\n",
    "import os\n",
    "\n",
    "class MaliciousPayload(nn.Module):\n",
    "    def __init__(self):\n",
    "        super(MaliciousPayload, self).__init__()\n",
    "        self.nonparam = torch.tensor(10.)\n",
    "        self.param = nn.Parameter(torch.tensor(20.))\n",
    "        \n",
    "    def __reduce__(self):\n",
    "        return (os.system, (\"echo 'Malicious code executed!'; touch hacked.txt\",))\n",
    "\n",
    "malicious_data = MaliciousPayload()\n",
    "with open(\"malicious_model.pkl\", \"wb\") as f:\n",
    "    pickle.dump(malicious_data, f)"
   ]
  },
  {
   "cell_type": "code",
   "execution_count": null,
   "metadata": {},
   "outputs": [
    {
     "name": "stdout",
     "output_type": "stream",
     "text": [
      "Malicious code executed!\n"
     ]
    },
    {
     "data": {
      "text/plain": [
       "0"
      ]
     },
     "execution_count": 43,
     "metadata": {},
     "output_type": "execute_result"
    }
   ],
   "source": [
    "with open(\"malicious_model.pkl\", \"rb\") as f:\n",
    "    loaded_data = pickle.load(f)\n",
    "loaded_data"
   ]
  },
  {
   "cell_type": "markdown",
   "metadata": {},
   "source": [
    "In safetensors we can't do anything except saving 'state_dict' and storing metadata, which is string"
   ]
  },
  {
   "cell_type": "code",
   "execution_count": null,
   "metadata": {},
   "outputs": [
    {
     "name": "stdout",
     "output_type": "stream",
     "text": [
      "{'param': tensor(20.)}\n"
     ]
    }
   ],
   "source": [
    "from safetensors.torch import save_file, load_file\n",
    "\n",
    "save_file(malicious_data.state_dict(), \"safe.safetensors\")\n",
    "\n",
    "safe_data = load_file(\"safe.safetensors\")\n",
    "print(safe_data)"
   ]
  },
  {
   "cell_type": "markdown",
   "metadata": {},
   "source": [
    "(beware that you need to define your params as ```nn.Parameter```)"
   ]
  },
  {
   "cell_type": "markdown",
   "metadata": {},
   "source": [
    "# Different formats support "
   ]
  },
  {
   "cell_type": "markdown",
   "metadata": {},
   "source": [
    "more for jax: https://github.com/alvarobartt/safejax"
   ]
  },
  {
   "cell_type": "markdown",
   "metadata": {},
   "source": [
    "We can save the tensor for PyTorch and then load it for other frameworks (tf, jax, and some others)"
   ]
  },
  {
   "cell_type": "code",
   "execution_count": null,
   "metadata": {},
   "outputs": [
    {
     "name": "stdout",
     "output_type": "stream",
     "text": [
      "PyTorch Tensor:\n",
      " tensor([[-2.1482,  1.8262,  0.7550],\n",
      "        [ 0.0742,  0.5142,  1.8213],\n",
      "        [ 0.6014, -1.3224,  0.9582]])\n",
      "TensorFlow Tensor:\n",
      " tf.Tensor(\n",
      "[[-2.1481683   1.8261622   0.7550253 ]\n",
      " [ 0.07417796  0.51415616  1.8213471 ]\n",
      " [ 0.6013614  -1.3223515   0.95818126]], shape=(3, 3), dtype=float32)\n",
      "JAX/Flax Tensor:\n",
      " [[-2.1481683   1.8261622   0.7550253 ]\n",
      " [ 0.07417796  0.51415616  1.8213471 ]\n",
      " [ 0.6013614  -1.3223515   0.95818126]]\n"
     ]
    }
   ],
   "source": [
    "import torch\n",
    "import tensorflow as tf\n",
    "import jax.numpy as jnp\n",
    "from safetensors.torch import save_file, load_file\n",
    "from safetensors.tensorflow import load_file as load_tf\n",
    "from safetensors.flax import load_file as load_flax  # for JAX/Flax\n",
    "\n",
    "tensor = torch.randn(3, 3)\n",
    "\n",
    "save_file({\"tensor\": tensor}, \"multi_framework.safetensors\")\n",
    "\n",
    "pt_data = load_file(\"multi_framework.safetensors\")\n",
    "print(\"PyTorch Tensor:\\n\", pt_data[\"tensor\"])\n",
    "\n",
    "tf_data = load_tf(\"multi_framework.safetensors\")\n",
    "print(\"TensorFlow Tensor:\\n\", tf_data[\"tensor\"])\n",
    "\n",
    "flax_data = load_flax(\"multi_framework.safetensors\")\n",
    "print(\"JAX/Flax Tensor:\\n\", flax_data[\"tensor\"])"
   ]
  },
  {
   "cell_type": "markdown",
   "metadata": {},
   "source": [
    "# Lazy-loading"
   ]
  },
  {
   "cell_type": "markdown",
   "metadata": {},
   "source": [
    "We can load only the pieces we need"
   ]
  },
  {
   "cell_type": "code",
   "execution_count": 7,
   "metadata": {},
   "outputs": [
    {
     "data": {
      "text/plain": [
       "tensor([[ 6.1581e-03, -7.8856e-04, -6.8335e-03, -9.0303e-03,  6.2035e-03],\n",
       "        [-5.8598e-03,  9.7183e-03,  9.8777e-05,  6.4537e-03, -3.9373e-03],\n",
       "        [ 7.8363e-03, -5.1742e-04, -4.9633e-03, -7.9796e-03,  5.9262e-03],\n",
       "        [-7.0394e-03,  2.6760e-03, -2.8524e-03,  3.0783e-03,  7.3222e-04],\n",
       "        [-6.8006e-03,  1.5352e-03, -1.2444e-03,  8.1483e-03,  4.1770e-03]],\n",
       "       device='mps:0')"
      ]
     },
     "execution_count": 7,
     "metadata": {},
     "output_type": "execute_result"
    }
   ],
   "source": [
    "from safetensors import safe_open\n",
    "\n",
    "tensors = {}\n",
    "with safe_open(\"large_model_weights.safetensors\", framework=\"pt\", device=0) as f:\n",
    "    tensor_slice = f.get_slice(\"fc3.weight\")\n",
    "    vocab_size, hidden_dim = tensor_slice.get_shape()\n",
    "    tensor = tensor_slice[:5, :5]\n",
    "tensor"
   ]
  }
 ],
 "metadata": {
  "kernelspec": {
   "display_name": ".venv",
   "language": "python",
   "name": "python3"
  },
  "language_info": {
   "codemirror_mode": {
    "name": "ipython",
    "version": 3
   },
   "file_extension": ".py",
   "mimetype": "text/x-python",
   "name": "python",
   "nbconvert_exporter": "python",
   "pygments_lexer": "ipython3",
   "version": "3.9.6"
  }
 },
 "nbformat": 4,
 "nbformat_minor": 2
}
